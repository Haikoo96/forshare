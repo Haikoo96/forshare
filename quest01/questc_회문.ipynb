{
  "nbformat": 4,
  "nbformat_minor": 0,
  "metadata": {
    "colab": {
      "provenance": [],
      "authorship_tag": "ABX9TyMXewl6AAMX/kBCFuPczS7c",
      "include_colab_link": true
    },
    "kernelspec": {
      "name": "python3",
      "display_name": "Python 3"
    },
    "language_info": {
      "name": "python"
    }
  },
  "cells": [
    {
      "cell_type": "markdown",
      "metadata": {
        "id": "view-in-github",
        "colab_type": "text"
      },
      "source": [
        "<a href=\"https://colab.research.google.com/github/Haikoo96/AIFFEL_Quest/blob/main/questc_%ED%9A%8C%EB%AC%B8.ipynb\" target=\"_parent\"><img src=\"https://colab.research.google.com/assets/colab-badge.svg\" alt=\"Open In Colab\"/></a>"
      ]
    },
    {
      "cell_type": "code",
      "source": [
        "u_input = input(\"아무 문장이나 넣어주세요: \")"
      ],
      "metadata": {
        "colab": {
          "base_uri": "https://localhost:8080/"
        },
        "id": "fDzWVn5QE8yA",
        "outputId": "5c51ae89-a843-42c9-bb73-43aaae043b47"
      },
      "execution_count": null,
      "outputs": [
        {
          "name": "stdout",
          "output_type": "stream",
          "text": [
            "아무 문장이나 넣어주세요: 무임의문자전보발신자인살인자신발보전자문의임무\n"
          ]
        }
      ]
    },
    {
      "cell_type": "code",
      "source": [
        "b_word = u_input.replace(\" \", \"\")\n",
        "print(b_word)\n",
        "print(len(b_word))\n"
      ],
      "metadata": {
        "colab": {
          "base_uri": "https://localhost:8080/"
        },
        "id": "CZ2z_WV0JyZE",
        "outputId": "e07480b3-6608-4b1e-e9be-f01a998e64d2"
      },
      "execution_count": null,
      "outputs": [
        {
          "output_type": "stream",
          "name": "stdout",
          "text": [
            "무임의문자전보발신자인살인자신발보전자문의임무\n",
            "23\n"
          ]
        }
      ]
    },
    {
      "cell_type": "code",
      "source": [
        "t = round(len(b_word)/2)\n",
        "m = 0\n",
        "i = -1\n",
        "\n",
        "while True:\n",
        "  if b_word[m] == b_word[i]:          #자꾸 인덱스 에러가 뜨네요\n",
        "    m += 1\n",
        "    i -= 1\n",
        "    if b_word[m] == b_word[t]:\n",
        "      print(\"입력된 문장은 회문입니다\")\n",
        "      break\n",
        "  else:\n",
        "    print(\"회문이 아닙니다\")\n",
        "    break\n",
        "\n",
        "\n",
        "\n",
        "\n",
        "\n"
      ],
      "metadata": {
        "colab": {
          "base_uri": "https://localhost:8080/"
        },
        "id": "emrPlhjVKPpc",
        "outputId": "5b51b755-bd07-4a8c-83de-1408407a4c8c"
      },
      "execution_count": null,
      "outputs": [
        {
          "output_type": "stream",
          "name": "stdout",
          "text": [
            "입력된 문장은 회문입니다\n"
          ]
        }
      ]
    },
    {
      "cell_type": "code",
      "source": [
        "def palind_a (input):\n",
        "  u_input.split()\n",
        "  if u_input[0] == u_input[-1]:\n",
        "    print(\"입력된 단어는 회문입니다.\")\n",
        "  else:\n",
        "    print(\"입력된 단어는 회문이 아닙니다.\")"
      ],
      "metadata": {
        "id": "l5ly50FtFY1y"
      },
      "execution_count": null,
      "outputs": []
    },
    {
      "cell_type": "code",
      "source": [
        "palind (u_input)"
      ],
      "metadata": {
        "colab": {
          "base_uri": "https://localhost:8080/"
        },
        "id": "TXPEbQKWFsK-",
        "outputId": "6817516c-034a-4a68-c3cb-70fd7ee6700b"
      },
      "execution_count": null,
      "outputs": [
        {
          "output_type": "stream",
          "name": "stdout",
          "text": [
            "입력된 단어는 회문입니다.\n"
          ]
        }
      ]
    },
    {
      "cell_type": "code",
      "source": [
        "u_input = input(\"아무 문장이나 넣어주세요: \")\n",
        "b_word = u_input.replace(\" \", \"\")\n",
        "print(b_word)\n",
        "print(len(b_word))\n",
        "t = round(len(b_word) / 2)\n",
        "m = 0\n",
        "i = -1\n",
        "\n",
        "while True:\n",
        "  b_word.split()\n",
        "  if b_word[m] == b_word[i]:\n",
        "    m += 1\n",
        "    i -= 1\n",
        "  elif b_word[m] == b_word[t]:\n",
        "    print(\"입력된 문장은 화문입니다.\")\n",
        "    break\n",
        "\n"
      ],
      "metadata": {
        "id": "qg6MlJFjWlOE",
        "colab": {
          "base_uri": "https://localhost:8080/",
          "height": 313
        },
        "outputId": "8e59f398-42ae-43b4-ff12-87e70d3a6850"
      },
      "execution_count": null,
      "outputs": [
        {
          "output_type": "stream",
          "name": "stdout",
          "text": [
            "아무 문장이나 넣어주세요: 무임의 문자 전보 발신자인 살인자 신발 보전 자문의 임무\n",
            "무임의문자전보발신자인살인자신발보전자문의임무\n",
            "23\n"
          ]
        },
        {
          "output_type": "error",
          "ename": "IndexError",
          "evalue": "ignored",
          "traceback": [
            "\u001b[0;31m---------------------------------------------------------------------------\u001b[0m",
            "\u001b[0;31mIndexError\u001b[0m                                Traceback (most recent call last)",
            "\u001b[0;32m<ipython-input-9-ee46d08d3859>\u001b[0m in \u001b[0;36m<cell line: 9>\u001b[0;34m()\u001b[0m\n\u001b[1;32m      9\u001b[0m \u001b[0;32mwhile\u001b[0m \u001b[0;32mTrue\u001b[0m\u001b[0;34m:\u001b[0m\u001b[0;34m\u001b[0m\u001b[0;34m\u001b[0m\u001b[0m\n\u001b[1;32m     10\u001b[0m   \u001b[0mb_word\u001b[0m\u001b[0;34m.\u001b[0m\u001b[0msplit\u001b[0m\u001b[0;34m(\u001b[0m\u001b[0;34m)\u001b[0m\u001b[0;34m\u001b[0m\u001b[0;34m\u001b[0m\u001b[0m\n\u001b[0;32m---> 11\u001b[0;31m   \u001b[0;32mif\u001b[0m \u001b[0mb_word\u001b[0m\u001b[0;34m[\u001b[0m\u001b[0mm\u001b[0m\u001b[0;34m]\u001b[0m \u001b[0;34m==\u001b[0m \u001b[0mb_word\u001b[0m\u001b[0;34m[\u001b[0m\u001b[0mi\u001b[0m\u001b[0;34m]\u001b[0m\u001b[0;34m:\u001b[0m\u001b[0;34m\u001b[0m\u001b[0;34m\u001b[0m\u001b[0m\n\u001b[0m\u001b[1;32m     12\u001b[0m     \u001b[0mm\u001b[0m \u001b[0;34m+=\u001b[0m \u001b[0;36m1\u001b[0m\u001b[0;34m\u001b[0m\u001b[0;34m\u001b[0m\u001b[0m\n\u001b[1;32m     13\u001b[0m     \u001b[0mi\u001b[0m \u001b[0;34m-=\u001b[0m \u001b[0;36m1\u001b[0m\u001b[0;34m\u001b[0m\u001b[0;34m\u001b[0m\u001b[0m\n",
            "\u001b[0;31mIndexError\u001b[0m: string index out of range"
          ]
        }
      ]
    }
  ]
}