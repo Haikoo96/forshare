{
  "nbformat": 4,
  "nbformat_minor": 0,
  "metadata": {
    "colab": {
      "provenance": [],
      "include_colab_link": true
    },
    "kernelspec": {
      "name": "python3",
      "display_name": "Python 3"
    },
    "language_info": {
      "name": "python"
    }
  },
  "cells": [
    {
      "cell_type": "markdown",
      "metadata": {
        "id": "view-in-github",
        "colab_type": "text"
      },
      "source": [
        "<a href=\"https://colab.research.google.com/github/Haikoo96/aiffel_quest2RE/blob/main/quest04/%EB%AC%BC%EA%B3%A0%EA%B8%B0test04.ipynb\" target=\"_parent\"><img src=\"https://colab.research.google.com/assets/colab-badge.svg\" alt=\"Open In Colab\"/></a>"
      ]
    },
    {
      "cell_type": "code",
      "execution_count": null,
      "metadata": {
        "id": "mcuWdpWgNumb",
        "colab": {
          "base_uri": "https://localhost:8080/"
        },
        "outputId": "2d50e76e-6f15-44f2-f5ef-185974a2a714"
      },
      "outputs": [
        {
          "output_type": "stream",
          "name": "stdout",
          "text": [
            "Using Comprenhension:\n",
            "Nemo is swimming at 3 m/s\n",
            "Dory is swimming at 5 m/s\n",
            "Using Generator:\n",
            "Nemo is swimming at 3 m/s\n",
            "Dory is swimming at 5 m/s\n"
          ]
        }
      ],
      "source": [
        "fish_list = [\n",
        " {\"이름\": \"Nemo\", \"speed\": 3},\n",
        "{\"이름\": \"Dory\", \"speed\": 5},\n",
        "]\n",
        "\n",
        "def show_fish_movement_comprehension(f_li):\n",
        "    fish = [f\"{i['이름']} is swimming at {i['speed']} m/s\" for i in f_li] # fish_list를 인자로 준 변수 f_li의 요소 하나마다 f 스트링으로 key와 value를 받아서 출력한 다음 컴프리헨션으로 fish라는 리스트로 만듦\n",
        "\n",
        "    for x in fish:     # fish 리스트 요소 하나마다 출력\n",
        "        print(x)\n",
        "\n",
        "def show_fish_movement_Generator(f_ls):\n",
        "    for x in f_ls:              # fish_list를 인자로 준 변수 f_li의 요소 하나마다 yield를 써서 뽑음\n",
        "        yield f\"{x['이름']} is swimming at {x['speed']} m/s\"\n",
        "\n",
        "\n",
        "\n",
        "print(\"Using Comprenhension:\")\n",
        "show_fish_movement_comprehension(fish_list)\n",
        "\n",
        "print(\"Using Generator:\")\n",
        "gen = show_fish_movement_Generator(fish_list)   # 함수를 gen이라는 변수에 저장했음\n",
        "print(next(gen))  # next 함수로 반복적으로 출력함\n",
        "print(next(gen))  # next 함수로 반복적으로 출력함\n",
        "\n",
        "\n"
      ]
    },
    {
      "cell_type": "markdown",
      "source": [
        "## 회고\n",
        "- 배운점: f string 을 사용하여 컴프리헨션을 구성할 수 있다는 걸 배움\n",
        "- 아쉬운점: gen 변수에다 함수를 할당하지 않으면서 할 수 있는 방법이 없었나 궁금했다\n",
        "- 느낀점: 코드를 작성하는 것도 좋지만 왠지 하면서 주석을 다는 습관을 들여야겠다는 생각이 들었다."
      ],
      "metadata": {
        "id": "F_GO5z0kZyP0"
      }
    }
  ]
}