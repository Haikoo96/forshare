{
 "cells": [
  {
   "cell_type": "markdown",
   "id": "9c46f8d0",
   "metadata": {},
   "source": [
    "# 꽈배기 문제"
   ]
  },
  {
   "cell_type": "code",
   "execution_count": 1,
   "id": "04a66889",
   "metadata": {},
   "outputs": [
    {
     "name": "stdout",
     "output_type": "stream",
     "text": [
      "꽈배기  1 개 있습니다.\n",
      "주문 개수 : 1\n",
      "남은 꽈배기는  0 개 입니다.\n",
      "*************************\n",
      "꽈배기 품절입니다.\n"
     ]
    }
   ],
   "source": [
    "korean_pretzel = 1\n",
    "while korean_pretzel:\n",
    "    print('꽈배기 ', korean_pretzel, '개 있습니다.')\n",
    "    order = int(input('주문 개수 : '))\n",
    "    korean_pretzel -= order\n",
    "    print('남은 꽈배기는 ', korean_pretzel, '개 입니다.')\n",
    "    print('*'*25)\n",
    "    if korean_pretzel <= 0:\n",
    "        print('꽈배기 품절입니다.')\n",
    "        break"
   ]
  },
  {
   "cell_type": "markdown",
   "id": "dfd8455e",
   "metadata": {},
   "source": [
    "# While 문에서 Break 쓰기"
   ]
  },
  {
   "cell_type": "code",
   "execution_count": 2,
   "id": "4fd697ea",
   "metadata": {},
   "outputs": [
    {
     "name": "stdout",
     "output_type": "stream",
     "text": [
      "1\n"
     ]
    }
   ],
   "source": [
    "a = 0\n",
    "while a < 10:\n",
    "    a += 1\n",
    "    if a % 2 ==0:\n",
    "        break\n",
    "    print(a)"
   ]
  },
  {
   "cell_type": "markdown",
   "id": "4832a29f",
   "metadata": {},
   "source": [
    "# Continue"
   ]
  },
  {
   "cell_type": "code",
   "execution_count": 3,
   "id": "9a913f75",
   "metadata": {},
   "outputs": [
    {
     "name": "stdout",
     "output_type": "stream",
     "text": [
      "1\n",
      "3\n",
      "5\n",
      "7\n",
      "9\n"
     ]
    }
   ],
   "source": [
    "a = 0\n",
    "while a < 10:\n",
    "    a += 1\n",
    "    if a % 2 ==0:\n",
    "        continue\n",
    "    print(a)"
   ]
  },
  {
   "cell_type": "markdown",
   "id": "8a604308",
   "metadata": {},
   "source": [
    "# 다양한 for 문 활용"
   ]
  },
  {
   "cell_type": "code",
   "execution_count": 4,
   "id": "e1087926",
   "metadata": {},
   "outputs": [
    {
     "name": "stdout",
     "output_type": "stream",
     "text": [
      "apple 는 한국어로 사과 입니다.\n",
      "banana 는 한국어로 바나나 입니다.\n",
      "melon 는 한국어로 멜론 입니다.\n"
     ]
    }
   ],
   "source": [
    "a =[('apple','사과'), ('banana', '바나나'), ('melon', '멜론')]\n",
    "for (en, ko) in a:\n",
    "    print(en, '는 한국어로', ko, '입니다.')"
   ]
  },
  {
   "cell_type": "markdown",
   "id": "7917c207",
   "metadata": {},
   "source": [
    "# 곱하기 for 문"
   ]
  },
  {
   "cell_type": "code",
   "execution_count": 6,
   "id": "422abeca",
   "metadata": {},
   "outputs": [
    {
     "name": "stdout",
     "output_type": "stream",
     "text": [
      "원하는 단수를 입력하세요:2\n",
      "2\n",
      "4\n",
      "6\n",
      "8\n",
      "10\n",
      "12\n",
      "14\n",
      "16\n",
      "18\n"
     ]
    }
   ],
   "source": [
    "n = int(input(\"원하는 단수를 입력하세요:\"))\n",
    "for x in range(1, 10):\n",
    "    mult = n * x\n",
    "    print(mult)"
   ]
  },
  {
   "cell_type": "markdown",
   "id": "cdbefef6",
   "metadata": {},
   "source": [
    "# 딕셔너리를 이용한 함수"
   ]
  },
  {
   "cell_type": "code",
   "execution_count": 11,
   "id": "3474a13d",
   "metadata": {},
   "outputs": [
    {
     "name": "stdout",
     "output_type": "stream",
     "text": [
      "저를 소개합니다.\n",
      "name : 이름\n",
      "age : 18\n",
      "MBTI : ESFJ\n",
      "dict_items([('name', '이름'), ('age', 18), ('MBTI', 'ESFJ')])\n"
     ]
    }
   ],
   "source": [
    "def my_profile(me):    # 키워드 가변 인수 활용\n",
    "    print('저를 소개합니다.')\n",
    "    for key, val in me.items():\n",
    "        print(key, ':', val)\n",
    "\n",
    "# 여러분의 프로필을 넣어보세요. \n",
    "me = {'name':'이름', 'age':18, 'MBTI':'ESFJ'} \n",
    "\n",
    "my_profile(me)\n",
    "print(me.items())"
   ]
  },
  {
   "cell_type": "code",
   "execution_count": null,
   "id": "0daee00a",
   "metadata": {},
   "outputs": [],
   "source": []
  }
 ],
 "metadata": {
  "kernelspec": {
   "display_name": "Python 3 (ipykernel)",
   "language": "python",
   "name": "python3"
  },
  "language_info": {
   "codemirror_mode": {
    "name": "ipython",
    "version": 3
   },
   "file_extension": ".py",
   "mimetype": "text/x-python",
   "name": "python",
   "nbconvert_exporter": "python",
   "pygments_lexer": "ipython3",
   "version": "3.9.7"
  }
 },
 "nbformat": 4,
 "nbformat_minor": 5
}
